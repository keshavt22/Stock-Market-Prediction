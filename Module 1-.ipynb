{
 "cells": [
  {
   "cell_type": "markdown",
   "metadata": {},
   "source": [
    "# Module 1"
   ]
  },
  {
   "cell_type": "markdown",
   "metadata": {},
   "source": [
    "   ### Welcome to the Answer notebook for Module 1 ! \n",
    "These notebooks have been provided to code and solve all the queries asked in the modules.\n",
    "\n",
    "This environment has all the necessary libraries pre-installed, and all the Stock, Commodities and Index data files available at the following location - \n",
    "\n"
   ]
  },
  {
   "cell_type": "markdown",
   "metadata": {},
   "source": [
    "#### The problem statements and their corresponding answers are expected to be in the following format - \n",
    "\n"
   ]
  },
  {
   "cell_type": "markdown",
   "metadata": {},
   "source": [
    "#--------------------------------------------------------------------------------------------------------------------------------------------------------------------------------------------------------#"
   ]
  },
  {
   "cell_type": "markdown",
   "metadata": {},
   "source": [
    "### Query 1.1 \n",
    "Import the csv file of the stock of your choosing using 'pd.read_csv()' function into a dataframe.\n",
    "Shares of a company can be offered in more than one category. The category of a stock is indicated in the ‘Series’ column. If the csv file has data on more than one category, the ‘Date’ column will have repeating values. To avoid repetitions in the date, remove all the rows where 'Series' column is NOT 'EQ'.\n",
    "Analyze and understand each column properly.\n",
    "You'd find the head(), tail() and describe() functions to be immensely useful for exploration. You're free to carry out any other exploration of your own."
   ]
  },
  {
   "cell_type": "code",
   "execution_count": 308,
   "metadata": {
    "scrolled": false
   },
   "outputs": [],
   "source": [
    "#The solution code should start right after the query statement, for example -\n",
    "#importing necessary libraries\n",
    "import numpy as np \n",
    "import pandas as pd\n",
    "import warnings\n",
    "warnings.filterwarnings('ignore')"
   ]
  },
  {
   "cell_type": "code",
   "execution_count": 312,
   "metadata": {},
   "outputs": [
    {
     "data": {
      "text/html": [
       "<div>\n",
       "<style scoped>\n",
       "    .dataframe tbody tr th:only-of-type {\n",
       "        vertical-align: middle;\n",
       "    }\n",
       "\n",
       "    .dataframe tbody tr th {\n",
       "        vertical-align: top;\n",
       "    }\n",
       "\n",
       "    .dataframe thead th {\n",
       "        text-align: right;\n",
       "    }\n",
       "</style>\n",
       "<table border=\"1\" class=\"dataframe\">\n",
       "  <thead>\n",
       "    <tr style=\"text-align: right;\">\n",
       "      <th></th>\n",
       "      <th>Symbol</th>\n",
       "      <th>Series</th>\n",
       "      <th>Date</th>\n",
       "      <th>Prev Close</th>\n",
       "      <th>Open Price</th>\n",
       "      <th>High Price</th>\n",
       "      <th>Low Price</th>\n",
       "      <th>Last Price</th>\n",
       "      <th>Close Price</th>\n",
       "      <th>Average Price</th>\n",
       "      <th>Total Traded Quantity</th>\n",
       "      <th>Turnover</th>\n",
       "      <th>No. of Trades</th>\n",
       "      <th>Deliverable Qty</th>\n",
       "      <th>% Dly Qt to Traded Qty</th>\n",
       "    </tr>\n",
       "  </thead>\n",
       "  <tbody>\n",
       "    <tr>\n",
       "      <th>0</th>\n",
       "      <td>HDFC</td>\n",
       "      <td>EQ</td>\n",
       "      <td>15-May-2017</td>\n",
       "      <td>1549.80</td>\n",
       "      <td>1554.5</td>\n",
       "      <td>1572.60</td>\n",
       "      <td>1554.10</td>\n",
       "      <td>1561.0</td>\n",
       "      <td>1559.50</td>\n",
       "      <td>1562.62</td>\n",
       "      <td>1270297</td>\n",
       "      <td>1.984990e+09</td>\n",
       "      <td>59917</td>\n",
       "      <td>955875</td>\n",
       "      <td>75.25</td>\n",
       "    </tr>\n",
       "    <tr>\n",
       "      <th>2</th>\n",
       "      <td>HDFC</td>\n",
       "      <td>EQ</td>\n",
       "      <td>16-May-2017</td>\n",
       "      <td>1559.50</td>\n",
       "      <td>1558.0</td>\n",
       "      <td>1569.00</td>\n",
       "      <td>1554.00</td>\n",
       "      <td>1568.0</td>\n",
       "      <td>1566.55</td>\n",
       "      <td>1564.05</td>\n",
       "      <td>2114918</td>\n",
       "      <td>3.307844e+09</td>\n",
       "      <td>79354</td>\n",
       "      <td>1652379</td>\n",
       "      <td>78.13</td>\n",
       "    </tr>\n",
       "    <tr>\n",
       "      <th>3</th>\n",
       "      <td>HDFC</td>\n",
       "      <td>EQ</td>\n",
       "      <td>17-May-2017</td>\n",
       "      <td>1566.55</td>\n",
       "      <td>1565.5</td>\n",
       "      <td>1570.95</td>\n",
       "      <td>1549.75</td>\n",
       "      <td>1550.1</td>\n",
       "      <td>1552.50</td>\n",
       "      <td>1557.08</td>\n",
       "      <td>2161434</td>\n",
       "      <td>3.365526e+09</td>\n",
       "      <td>80317</td>\n",
       "      <td>1794472</td>\n",
       "      <td>83.02</td>\n",
       "    </tr>\n",
       "    <tr>\n",
       "      <th>5</th>\n",
       "      <td>HDFC</td>\n",
       "      <td>EQ</td>\n",
       "      <td>18-May-2017</td>\n",
       "      <td>1552.50</td>\n",
       "      <td>1547.0</td>\n",
       "      <td>1558.60</td>\n",
       "      <td>1526.50</td>\n",
       "      <td>1545.0</td>\n",
       "      <td>1537.05</td>\n",
       "      <td>1539.03</td>\n",
       "      <td>2404372</td>\n",
       "      <td>3.700407e+09</td>\n",
       "      <td>85842</td>\n",
       "      <td>1837821</td>\n",
       "      <td>76.44</td>\n",
       "    </tr>\n",
       "    <tr>\n",
       "      <th>7</th>\n",
       "      <td>HDFC</td>\n",
       "      <td>EQ</td>\n",
       "      <td>19-May-2017</td>\n",
       "      <td>1537.05</td>\n",
       "      <td>1545.0</td>\n",
       "      <td>1548.00</td>\n",
       "      <td>1515.35</td>\n",
       "      <td>1526.5</td>\n",
       "      <td>1520.60</td>\n",
       "      <td>1526.14</td>\n",
       "      <td>2142433</td>\n",
       "      <td>3.269652e+09</td>\n",
       "      <td>113875</td>\n",
       "      <td>1601236</td>\n",
       "      <td>74.74</td>\n",
       "    </tr>\n",
       "  </tbody>\n",
       "</table>\n",
       "</div>"
      ],
      "text/plain": [
       "  Symbol Series         Date  Prev Close  Open Price  High Price  Low Price  \\\n",
       "0   HDFC     EQ  15-May-2017     1549.80      1554.5     1572.60    1554.10   \n",
       "2   HDFC     EQ  16-May-2017     1559.50      1558.0     1569.00    1554.00   \n",
       "3   HDFC     EQ  17-May-2017     1566.55      1565.5     1570.95    1549.75   \n",
       "5   HDFC     EQ  18-May-2017     1552.50      1547.0     1558.60    1526.50   \n",
       "7   HDFC     EQ  19-May-2017     1537.05      1545.0     1548.00    1515.35   \n",
       "\n",
       "   Last Price  Close Price  Average Price  Total Traded Quantity  \\\n",
       "0      1561.0      1559.50        1562.62                1270297   \n",
       "2      1568.0      1566.55        1564.05                2114918   \n",
       "3      1550.1      1552.50        1557.08                2161434   \n",
       "5      1545.0      1537.05        1539.03                2404372   \n",
       "7      1526.5      1520.60        1526.14                2142433   \n",
       "\n",
       "       Turnover  No. of Trades  Deliverable Qty  % Dly Qt to Traded Qty  \n",
       "0  1.984990e+09          59917           955875                   75.25  \n",
       "2  3.307844e+09          79354          1652379                   78.13  \n",
       "3  3.365526e+09          80317          1794472                   83.02  \n",
       "5  3.700407e+09          85842          1837821                   76.44  \n",
       "7  3.269652e+09         113875          1601236                   74.74  "
      ]
     },
     "metadata": {},
     "output_type": "display_data"
    },
    {
     "data": {
      "text/html": [
       "<div>\n",
       "<style scoped>\n",
       "    .dataframe tbody tr th:only-of-type {\n",
       "        vertical-align: middle;\n",
       "    }\n",
       "\n",
       "    .dataframe tbody tr th {\n",
       "        vertical-align: top;\n",
       "    }\n",
       "\n",
       "    .dataframe thead th {\n",
       "        text-align: right;\n",
       "    }\n",
       "</style>\n",
       "<table border=\"1\" class=\"dataframe\">\n",
       "  <thead>\n",
       "    <tr style=\"text-align: right;\">\n",
       "      <th></th>\n",
       "      <th>Symbol</th>\n",
       "      <th>Series</th>\n",
       "      <th>Date</th>\n",
       "      <th>Prev Close</th>\n",
       "      <th>Open Price</th>\n",
       "      <th>High Price</th>\n",
       "      <th>Low Price</th>\n",
       "      <th>Last Price</th>\n",
       "      <th>Close Price</th>\n",
       "      <th>Average Price</th>\n",
       "      <th>Total Traded Quantity</th>\n",
       "      <th>Turnover</th>\n",
       "      <th>No. of Trades</th>\n",
       "      <th>Deliverable Qty</th>\n",
       "      <th>% Dly Qt to Traded Qty</th>\n",
       "    </tr>\n",
       "  </thead>\n",
       "  <tbody>\n",
       "    <tr>\n",
       "      <th>824</th>\n",
       "      <td>HDFC</td>\n",
       "      <td>EQ</td>\n",
       "      <td>07-May-2019</td>\n",
       "      <td>1965.45</td>\n",
       "      <td>1974.80</td>\n",
       "      <td>2009.15</td>\n",
       "      <td>1959.20</td>\n",
       "      <td>1964.50</td>\n",
       "      <td>1966.30</td>\n",
       "      <td>1983.01</td>\n",
       "      <td>2683956</td>\n",
       "      <td>5.322315e+09</td>\n",
       "      <td>114029</td>\n",
       "      <td>1522276</td>\n",
       "      <td>56.72</td>\n",
       "    </tr>\n",
       "    <tr>\n",
       "      <th>825</th>\n",
       "      <td>HDFC</td>\n",
       "      <td>EQ</td>\n",
       "      <td>08-May-2019</td>\n",
       "      <td>1966.30</td>\n",
       "      <td>1964.50</td>\n",
       "      <td>1964.50</td>\n",
       "      <td>1925.05</td>\n",
       "      <td>1930.10</td>\n",
       "      <td>1930.75</td>\n",
       "      <td>1941.55</td>\n",
       "      <td>3626183</td>\n",
       "      <td>7.040422e+09</td>\n",
       "      <td>151779</td>\n",
       "      <td>2378973</td>\n",
       "      <td>65.61</td>\n",
       "    </tr>\n",
       "    <tr>\n",
       "      <th>826</th>\n",
       "      <td>HDFC</td>\n",
       "      <td>EQ</td>\n",
       "      <td>09-May-2019</td>\n",
       "      <td>1930.75</td>\n",
       "      <td>1926.00</td>\n",
       "      <td>1931.60</td>\n",
       "      <td>1901.30</td>\n",
       "      <td>1914.15</td>\n",
       "      <td>1914.60</td>\n",
       "      <td>1918.15</td>\n",
       "      <td>1932792</td>\n",
       "      <td>3.707382e+09</td>\n",
       "      <td>130444</td>\n",
       "      <td>1132999</td>\n",
       "      <td>58.62</td>\n",
       "    </tr>\n",
       "    <tr>\n",
       "      <th>827</th>\n",
       "      <td>HDFC</td>\n",
       "      <td>EQ</td>\n",
       "      <td>10-May-2019</td>\n",
       "      <td>1914.60</td>\n",
       "      <td>1915.25</td>\n",
       "      <td>1956.00</td>\n",
       "      <td>1910.75</td>\n",
       "      <td>1926.80</td>\n",
       "      <td>1931.70</td>\n",
       "      <td>1936.05</td>\n",
       "      <td>1628923</td>\n",
       "      <td>3.153682e+09</td>\n",
       "      <td>97684</td>\n",
       "      <td>811832</td>\n",
       "      <td>49.84</td>\n",
       "    </tr>\n",
       "    <tr>\n",
       "      <th>828</th>\n",
       "      <td>HDFC</td>\n",
       "      <td>EQ</td>\n",
       "      <td>13-May-2019</td>\n",
       "      <td>1931.70</td>\n",
       "      <td>1926.10</td>\n",
       "      <td>1984.40</td>\n",
       "      <td>1917.85</td>\n",
       "      <td>1957.00</td>\n",
       "      <td>1952.90</td>\n",
       "      <td>1958.85</td>\n",
       "      <td>4509527</td>\n",
       "      <td>8.833504e+09</td>\n",
       "      <td>139299</td>\n",
       "      <td>1332224</td>\n",
       "      <td>29.54</td>\n",
       "    </tr>\n",
       "  </tbody>\n",
       "</table>\n",
       "</div>"
      ],
      "text/plain": [
       "    Symbol Series         Date  Prev Close  Open Price  High Price  Low Price  \\\n",
       "824   HDFC     EQ  07-May-2019     1965.45     1974.80     2009.15    1959.20   \n",
       "825   HDFC     EQ  08-May-2019     1966.30     1964.50     1964.50    1925.05   \n",
       "826   HDFC     EQ  09-May-2019     1930.75     1926.00     1931.60    1901.30   \n",
       "827   HDFC     EQ  10-May-2019     1914.60     1915.25     1956.00    1910.75   \n",
       "828   HDFC     EQ  13-May-2019     1931.70     1926.10     1984.40    1917.85   \n",
       "\n",
       "     Last Price  Close Price  Average Price  Total Traded Quantity  \\\n",
       "824     1964.50      1966.30        1983.01                2683956   \n",
       "825     1930.10      1930.75        1941.55                3626183   \n",
       "826     1914.15      1914.60        1918.15                1932792   \n",
       "827     1926.80      1931.70        1936.05                1628923   \n",
       "828     1957.00      1952.90        1958.85                4509527   \n",
       "\n",
       "         Turnover  No. of Trades  Deliverable Qty  % Dly Qt to Traded Qty  \n",
       "824  5.322315e+09         114029          1522276                   56.72  \n",
       "825  7.040422e+09         151779          2378973                   65.61  \n",
       "826  3.707382e+09         130444          1132999                   58.62  \n",
       "827  3.153682e+09          97684           811832                   49.84  \n",
       "828  8.833504e+09         139299          1332224                   29.54  "
      ]
     },
     "metadata": {},
     "output_type": "display_data"
    },
    {
     "data": {
      "text/html": [
       "<div>\n",
       "<style scoped>\n",
       "    .dataframe tbody tr th:only-of-type {\n",
       "        vertical-align: middle;\n",
       "    }\n",
       "\n",
       "    .dataframe tbody tr th {\n",
       "        vertical-align: top;\n",
       "    }\n",
       "\n",
       "    .dataframe thead th {\n",
       "        text-align: right;\n",
       "    }\n",
       "</style>\n",
       "<table border=\"1\" class=\"dataframe\">\n",
       "  <thead>\n",
       "    <tr style=\"text-align: right;\">\n",
       "      <th></th>\n",
       "      <th>Prev Close</th>\n",
       "      <th>Open Price</th>\n",
       "      <th>High Price</th>\n",
       "      <th>Low Price</th>\n",
       "      <th>Last Price</th>\n",
       "      <th>Close Price</th>\n",
       "      <th>Average Price</th>\n",
       "      <th>Total Traded Quantity</th>\n",
       "      <th>Turnover</th>\n",
       "      <th>No. of Trades</th>\n",
       "      <th>Deliverable Qty</th>\n",
       "      <th>% Dly Qt to Traded Qty</th>\n",
       "    </tr>\n",
       "  </thead>\n",
       "  <tbody>\n",
       "    <tr>\n",
       "      <th>count</th>\n",
       "      <td>494.000000</td>\n",
       "      <td>494.000000</td>\n",
       "      <td>494.000000</td>\n",
       "      <td>494.000000</td>\n",
       "      <td>494.000000</td>\n",
       "      <td>494.000000</td>\n",
       "      <td>494.000000</td>\n",
       "      <td>4.940000e+02</td>\n",
       "      <td>4.940000e+02</td>\n",
       "      <td>494.000000</td>\n",
       "      <td>4.940000e+02</td>\n",
       "      <td>494.000000</td>\n",
       "    </tr>\n",
       "    <tr>\n",
       "      <th>mean</th>\n",
       "      <td>1823.082085</td>\n",
       "      <td>1825.307692</td>\n",
       "      <td>1840.859717</td>\n",
       "      <td>1806.518623</td>\n",
       "      <td>1823.406883</td>\n",
       "      <td>1823.898077</td>\n",
       "      <td>1823.445870</td>\n",
       "      <td>2.832844e+06</td>\n",
       "      <td>5.161389e+09</td>\n",
       "      <td>113452.327935</td>\n",
       "      <td>1.987529e+06</td>\n",
       "      <td>69.580263</td>\n",
       "    </tr>\n",
       "    <tr>\n",
       "      <th>std</th>\n",
       "      <td>121.282237</td>\n",
       "      <td>121.198435</td>\n",
       "      <td>121.112550</td>\n",
       "      <td>119.440983</td>\n",
       "      <td>120.778951</td>\n",
       "      <td>120.794912</td>\n",
       "      <td>120.084157</td>\n",
       "      <td>1.305206e+06</td>\n",
       "      <td>2.362741e+09</td>\n",
       "      <td>39574.618974</td>\n",
       "      <td>9.763233e+05</td>\n",
       "      <td>8.885586</td>\n",
       "    </tr>\n",
       "    <tr>\n",
       "      <th>min</th>\n",
       "      <td>1511.500000</td>\n",
       "      <td>1519.000000</td>\n",
       "      <td>1530.000000</td>\n",
       "      <td>1503.450000</td>\n",
       "      <td>1510.000000</td>\n",
       "      <td>1511.500000</td>\n",
       "      <td>1518.840000</td>\n",
       "      <td>1.198320e+05</td>\n",
       "      <td>2.094236e+08</td>\n",
       "      <td>3912.000000</td>\n",
       "      <td>3.758300e+04</td>\n",
       "      <td>29.540000</td>\n",
       "    </tr>\n",
       "    <tr>\n",
       "      <th>25%</th>\n",
       "      <td>1730.562500</td>\n",
       "      <td>1729.900000</td>\n",
       "      <td>1753.200000</td>\n",
       "      <td>1713.012500</td>\n",
       "      <td>1730.437500</td>\n",
       "      <td>1731.425000</td>\n",
       "      <td>1733.872500</td>\n",
       "      <td>1.961598e+06</td>\n",
       "      <td>3.497697e+09</td>\n",
       "      <td>86062.250000</td>\n",
       "      <td>1.289399e+06</td>\n",
       "      <td>65.232500</td>\n",
       "    </tr>\n",
       "    <tr>\n",
       "      <th>50%</th>\n",
       "      <td>1828.825000</td>\n",
       "      <td>1831.850000</td>\n",
       "      <td>1844.550000</td>\n",
       "      <td>1816.250000</td>\n",
       "      <td>1826.975000</td>\n",
       "      <td>1829.025000</td>\n",
       "      <td>1829.600000</td>\n",
       "      <td>2.557129e+06</td>\n",
       "      <td>4.708236e+09</td>\n",
       "      <td>108139.500000</td>\n",
       "      <td>1.789542e+06</td>\n",
       "      <td>70.530000</td>\n",
       "    </tr>\n",
       "    <tr>\n",
       "      <th>75%</th>\n",
       "      <td>1928.075000</td>\n",
       "      <td>1926.700000</td>\n",
       "      <td>1947.400000</td>\n",
       "      <td>1907.825000</td>\n",
       "      <td>1925.937500</td>\n",
       "      <td>1929.187500</td>\n",
       "      <td>1925.947500</td>\n",
       "      <td>3.455178e+06</td>\n",
       "      <td>6.269317e+09</td>\n",
       "      <td>138580.500000</td>\n",
       "      <td>2.430699e+06</td>\n",
       "      <td>75.210000</td>\n",
       "    </tr>\n",
       "    <tr>\n",
       "      <th>max</th>\n",
       "      <td>2069.150000</td>\n",
       "      <td>2068.000000</td>\n",
       "      <td>2073.000000</td>\n",
       "      <td>2039.150000</td>\n",
       "      <td>2067.000000</td>\n",
       "      <td>2069.150000</td>\n",
       "      <td>2057.720000</td>\n",
       "      <td>9.486397e+06</td>\n",
       "      <td>1.749929e+10</td>\n",
       "      <td>312842.000000</td>\n",
       "      <td>6.951300e+06</td>\n",
       "      <td>92.260000</td>\n",
       "    </tr>\n",
       "  </tbody>\n",
       "</table>\n",
       "</div>"
      ],
      "text/plain": [
       "        Prev Close   Open Price   High Price    Low Price   Last Price  \\\n",
       "count   494.000000   494.000000   494.000000   494.000000   494.000000   \n",
       "mean   1823.082085  1825.307692  1840.859717  1806.518623  1823.406883   \n",
       "std     121.282237   121.198435   121.112550   119.440983   120.778951   \n",
       "min    1511.500000  1519.000000  1530.000000  1503.450000  1510.000000   \n",
       "25%    1730.562500  1729.900000  1753.200000  1713.012500  1730.437500   \n",
       "50%    1828.825000  1831.850000  1844.550000  1816.250000  1826.975000   \n",
       "75%    1928.075000  1926.700000  1947.400000  1907.825000  1925.937500   \n",
       "max    2069.150000  2068.000000  2073.000000  2039.150000  2067.000000   \n",
       "\n",
       "       Close Price  Average Price  Total Traded Quantity      Turnover  \\\n",
       "count   494.000000     494.000000           4.940000e+02  4.940000e+02   \n",
       "mean   1823.898077    1823.445870           2.832844e+06  5.161389e+09   \n",
       "std     120.794912     120.084157           1.305206e+06  2.362741e+09   \n",
       "min    1511.500000    1518.840000           1.198320e+05  2.094236e+08   \n",
       "25%    1731.425000    1733.872500           1.961598e+06  3.497697e+09   \n",
       "50%    1829.025000    1829.600000           2.557129e+06  4.708236e+09   \n",
       "75%    1929.187500    1925.947500           3.455178e+06  6.269317e+09   \n",
       "max    2069.150000    2057.720000           9.486397e+06  1.749929e+10   \n",
       "\n",
       "       No. of Trades  Deliverable Qty  % Dly Qt to Traded Qty  \n",
       "count     494.000000     4.940000e+02              494.000000  \n",
       "mean   113452.327935     1.987529e+06               69.580263  \n",
       "std     39574.618974     9.763233e+05                8.885586  \n",
       "min      3912.000000     3.758300e+04               29.540000  \n",
       "25%     86062.250000     1.289399e+06               65.232500  \n",
       "50%    108139.500000     1.789542e+06               70.530000  \n",
       "75%    138580.500000     2.430699e+06               75.210000  \n",
       "max    312842.000000     6.951300e+06               92.260000  "
      ]
     },
     "metadata": {},
     "output_type": "display_data"
    }
   ],
   "source": [
    "df = pd.read_csv('HDFC.csv') #importing the required csv file \n",
    "\n",
    "df = (df[df['Series'] == 'EQ']) # removing all the rows where 'Series' column is NOT 'EQ'\n",
    "\n",
    "display(df.head()) # returns top n (5 by default) rows of a data frame.\n",
    "display(df.tail()) # returns last n (5 by default) rows of a data frame.\n",
    "display(df.describe()) # returns the information about the dataframe."
   ]
  },
  {
   "cell_type": "markdown",
   "metadata": {},
   "source": [
    "### Query 1.2\n",
    "Calculate the maximum, minimum and mean price for the last 90 days. (price=Closing Price unless stated otherwise)"
   ]
  },
  {
   "cell_type": "code",
   "execution_count": 304,
   "metadata": {},
   "outputs": [],
   "source": [
    "#And so on !"
   ]
  },
  {
   "cell_type": "markdown",
   "metadata": {},
   "source": [
    "**This is the expected format of the answer notebook**"
   ]
  },
  {
   "cell_type": "code",
   "execution_count": 305,
   "metadata": {
    "scrolled": true
   },
   "outputs": [
    {
     "name": "stdout",
     "output_type": "stream",
     "text": [
      "maximum close price for last 90 days:\n",
      "\n",
      " Symbol                           HDFC\n",
      "Series                             EQ\n",
      "Date                      09-Apr-2019\n",
      "Prev Close                     2054.9\n",
      "Open Price                     2062.5\n",
      "High Price                       2073\n",
      "Low Price                     2039.15\n",
      "Last Price                       2067\n",
      "Close Price                   2069.15\n",
      "Average Price                 2057.72\n",
      "Total Traded Quantity         2381281\n",
      "Turnover                  4.90001e+09\n",
      "No. of Trades                  162102\n",
      "Deliverable Qty               1662887\n",
      "% Dly Qt to Traded Qty          69.83\n",
      "Name: 808, dtype: object\n",
      "\n",
      "minimum close price for last 90 days:\n",
      "\n",
      " Symbol                           HDFC\n",
      "Series                             EQ\n",
      "Date                      27-Feb-2019\n",
      "Prev Close                    1853.65\n",
      "Open Price                       1868\n",
      "High Price                       1870\n",
      "Low Price                        1820\n",
      "Last Price                     1840.5\n",
      "Close Price                      1841\n",
      "Average Price                 1845.85\n",
      "Total Traded Quantity         3412510\n",
      "Turnover                  6.29898e+09\n",
      "No. of Trades                  183158\n",
      "Deliverable Qty               2141106\n",
      "% Dly Qt to Traded Qty          62.74\n",
      "Name: 780, dtype: object\n",
      "\n",
      "mean close price for last 90 days: 1955.255555555555\n"
     ]
    }
   ],
   "source": [
    "df1 = df.tail(90) #getting dataframe for last 90 days \n",
    "\n",
    "df_max = df1.loc[df1['Close Price'].idxmax()]   #calculating the maximum closing price for last 90 days\n",
    "print(\"maximum close price for last 90 days:\\n\\n\",df_max)\n",
    "\n",
    "df_min = df1.loc[df1['Close Price'].idxmin()]   #calculating the minimum closing price for last 90 days\n",
    "print(\"\\nminimum close price for last 90 days:\\n\\n\",df_min)\n",
    "\n",
    "df_mean = df1['Close Price'].mean()             #calculating the mean closing price for last 90 days\n",
    "print(\"\\nmean close price for last 90 days:\",df_mean)\n",
    "\n",
    "\n",
    "\n",
    "\n",
    "\n",
    "\n",
    "\n"
   ]
  },
  {
   "cell_type": "markdown",
   "metadata": {},
   "source": [
    "## Query 1.3\n"
   ]
  },
  {
   "cell_type": "code",
   "execution_count": 306,
   "metadata": {},
   "outputs": [
    {
     "name": "stdout",
     "output_type": "stream",
     "text": [
      "datetime64[ns]\n",
      "728 days 00:00:00\n"
     ]
    },
    {
     "data": {
      "text/html": [
       "<div>\n",
       "<style scoped>\n",
       "    .dataframe tbody tr th:only-of-type {\n",
       "        vertical-align: middle;\n",
       "    }\n",
       "\n",
       "    .dataframe tbody tr th {\n",
       "        vertical-align: top;\n",
       "    }\n",
       "\n",
       "    .dataframe thead th {\n",
       "        text-align: right;\n",
       "    }\n",
       "</style>\n",
       "<table border=\"1\" class=\"dataframe\">\n",
       "  <thead>\n",
       "    <tr style=\"text-align: right;\">\n",
       "      <th></th>\n",
       "      <th>Symbol</th>\n",
       "      <th>Series</th>\n",
       "      <th>Date</th>\n",
       "      <th>Prev Close</th>\n",
       "      <th>Open Price</th>\n",
       "      <th>High Price</th>\n",
       "      <th>Low Price</th>\n",
       "      <th>Last Price</th>\n",
       "      <th>Close Price</th>\n",
       "      <th>Average Price</th>\n",
       "      <th>Total Traded Quantity</th>\n",
       "      <th>Turnover</th>\n",
       "      <th>No. of Trades</th>\n",
       "      <th>Deliverable Qty</th>\n",
       "      <th>% Dly Qt to Traded Qty</th>\n",
       "    </tr>\n",
       "  </thead>\n",
       "  <tbody>\n",
       "    <tr>\n",
       "      <th>0</th>\n",
       "      <td>HDFC</td>\n",
       "      <td>EQ</td>\n",
       "      <td>2017-05-15</td>\n",
       "      <td>1549.80</td>\n",
       "      <td>1554.5</td>\n",
       "      <td>1572.60</td>\n",
       "      <td>1554.10</td>\n",
       "      <td>1561.0</td>\n",
       "      <td>1559.50</td>\n",
       "      <td>1562.62</td>\n",
       "      <td>1270297</td>\n",
       "      <td>1.984990e+09</td>\n",
       "      <td>59917</td>\n",
       "      <td>955875</td>\n",
       "      <td>75.25</td>\n",
       "    </tr>\n",
       "    <tr>\n",
       "      <th>2</th>\n",
       "      <td>HDFC</td>\n",
       "      <td>EQ</td>\n",
       "      <td>2017-05-16</td>\n",
       "      <td>1559.50</td>\n",
       "      <td>1558.0</td>\n",
       "      <td>1569.00</td>\n",
       "      <td>1554.00</td>\n",
       "      <td>1568.0</td>\n",
       "      <td>1566.55</td>\n",
       "      <td>1564.05</td>\n",
       "      <td>2114918</td>\n",
       "      <td>3.307844e+09</td>\n",
       "      <td>79354</td>\n",
       "      <td>1652379</td>\n",
       "      <td>78.13</td>\n",
       "    </tr>\n",
       "    <tr>\n",
       "      <th>3</th>\n",
       "      <td>HDFC</td>\n",
       "      <td>EQ</td>\n",
       "      <td>2017-05-17</td>\n",
       "      <td>1566.55</td>\n",
       "      <td>1565.5</td>\n",
       "      <td>1570.95</td>\n",
       "      <td>1549.75</td>\n",
       "      <td>1550.1</td>\n",
       "      <td>1552.50</td>\n",
       "      <td>1557.08</td>\n",
       "      <td>2161434</td>\n",
       "      <td>3.365526e+09</td>\n",
       "      <td>80317</td>\n",
       "      <td>1794472</td>\n",
       "      <td>83.02</td>\n",
       "    </tr>\n",
       "    <tr>\n",
       "      <th>5</th>\n",
       "      <td>HDFC</td>\n",
       "      <td>EQ</td>\n",
       "      <td>2017-05-18</td>\n",
       "      <td>1552.50</td>\n",
       "      <td>1547.0</td>\n",
       "      <td>1558.60</td>\n",
       "      <td>1526.50</td>\n",
       "      <td>1545.0</td>\n",
       "      <td>1537.05</td>\n",
       "      <td>1539.03</td>\n",
       "      <td>2404372</td>\n",
       "      <td>3.700407e+09</td>\n",
       "      <td>85842</td>\n",
       "      <td>1837821</td>\n",
       "      <td>76.44</td>\n",
       "    </tr>\n",
       "    <tr>\n",
       "      <th>7</th>\n",
       "      <td>HDFC</td>\n",
       "      <td>EQ</td>\n",
       "      <td>2017-05-19</td>\n",
       "      <td>1537.05</td>\n",
       "      <td>1545.0</td>\n",
       "      <td>1548.00</td>\n",
       "      <td>1515.35</td>\n",
       "      <td>1526.5</td>\n",
       "      <td>1520.60</td>\n",
       "      <td>1526.14</td>\n",
       "      <td>2142433</td>\n",
       "      <td>3.269652e+09</td>\n",
       "      <td>113875</td>\n",
       "      <td>1601236</td>\n",
       "      <td>74.74</td>\n",
       "    </tr>\n",
       "  </tbody>\n",
       "</table>\n",
       "</div>"
      ],
      "text/plain": [
       "  Symbol Series       Date  Prev Close  Open Price  High Price  Low Price  \\\n",
       "0   HDFC     EQ 2017-05-15     1549.80      1554.5     1572.60    1554.10   \n",
       "2   HDFC     EQ 2017-05-16     1559.50      1558.0     1569.00    1554.00   \n",
       "3   HDFC     EQ 2017-05-17     1566.55      1565.5     1570.95    1549.75   \n",
       "5   HDFC     EQ 2017-05-18     1552.50      1547.0     1558.60    1526.50   \n",
       "7   HDFC     EQ 2017-05-19     1537.05      1545.0     1548.00    1515.35   \n",
       "\n",
       "   Last Price  Close Price  Average Price  Total Traded Quantity  \\\n",
       "0      1561.0      1559.50        1562.62                1270297   \n",
       "2      1568.0      1566.55        1564.05                2114918   \n",
       "3      1550.1      1552.50        1557.08                2161434   \n",
       "5      1545.0      1537.05        1539.03                2404372   \n",
       "7      1526.5      1520.60        1526.14                2142433   \n",
       "\n",
       "       Turnover  No. of Trades  Deliverable Qty  % Dly Qt to Traded Qty  \n",
       "0  1.984990e+09          59917           955875                   75.25  \n",
       "2  3.307844e+09          79354          1652379                   78.13  \n",
       "3  3.365526e+09          80317          1794472                   83.02  \n",
       "5  3.700407e+09          85842          1837821                   76.44  \n",
       "7  3.269652e+09         113875          1601236                   74.74  "
      ]
     },
     "execution_count": 306,
     "metadata": {},
     "output_type": "execute_result"
    }
   ],
   "source": [
    "import time\n",
    "df['Date']= pd.to_datetime(df['Date'])  #converting date column from 'object' type to datetime64(ns)\n",
    "print(df.Date.dtype)\n",
    "Date_df = df.Date.max()-df.Date.min()   #Difference of maximum and minimum value of Date column\n",
    "print(Date_df)\n",
    "df.head()"
   ]
  },
  {
   "cell_type": "markdown",
   "metadata": {},
   "source": [
    "## Query 1.4\n"
   ]
  },
  {
   "cell_type": "code",
   "execution_count": 266,
   "metadata": {},
   "outputs": [],
   "source": [
    "df['Month'] = pd.DatetimeIndex(df.Date).month #It Creates a new dataframe column ‘Month’\n",
    "df['Year']  = pd.DatetimeIndex(df.Date).year  #It Creates a new dataframe column ‘Year’"
   ]
  },
  {
   "cell_type": "code",
   "execution_count": 267,
   "metadata": {},
   "outputs": [
    {
     "name": "stdout",
     "output_type": "stream",
     "text": [
      "[1551.858138913995, 1634.1428740467704, 1682.241746273039, 1743.6680497928237, 1765.3935468022196, 1730.3141761266031, 1706.2832725810447, 1693.3585958249928, 1854.5974754796118, 1827.5515163669852, 1810.5208333772725, 1844.8727109539368, 1864.6813814172367, 1865.7245560566346, 1969.0964244381214, 1940.0868376189403, 1829.37307556748, 1718.956780934347, 1862.6938009734954, 1946.048384117358, 1962.2585270951733, 1901.9682539374974, 1939.8934103810745, 2004.1132218400637, 1958.0939693452451]\n"
     ]
    }
   ],
   "source": [
    "#grouping column with groupby() function\n",
    "vwap = []\n",
    "for year, groups in df.groupby(['Year', 'Month']):\n",
    "    #the vwap list stores all the values for every months\n",
    "    vwap.append(((groups['Close Price']*groups['Total Traded Quantity']).mean())/groups['Total Traded Quantity'].mean()) #calculation of vwap\n",
    "print(vwap)  "
   ]
  },
  {
   "cell_type": "markdown",
   "metadata": {},
   "source": [
    "## Query 1.5\n"
   ]
  },
  {
   "cell_type": "code",
   "execution_count": 268,
   "metadata": {},
   "outputs": [],
   "source": [
    "def avg_price(N):   # function to calculate the average price over the last N days of the stock price data \n",
    "    return(df['Close Price'].tail(N).mean())   "
   ]
  },
  {
   "cell_type": "code",
   "execution_count": 269,
   "metadata": {},
   "outputs": [
    {
     "data": {
      "text/plain": [
       "1939.25"
      ]
     },
     "execution_count": 269,
     "metadata": {},
     "output_type": "execute_result"
    }
   ],
   "source": [
    "avg_price(5) #average price for one week"
   ]
  },
  {
   "cell_type": "code",
   "execution_count": 270,
   "metadata": {},
   "outputs": [
    {
     "data": {
      "text/plain": [
       "1965.795"
      ]
     },
     "execution_count": 270,
     "metadata": {},
     "output_type": "execute_result"
    }
   ],
   "source": [
    "avg_price(10) #average price for 2 weeks"
   ]
  },
  {
   "cell_type": "code",
   "execution_count": 271,
   "metadata": {},
   "outputs": [
    {
     "data": {
      "text/plain": [
       "1993.6880000000006"
      ]
     },
     "execution_count": 271,
     "metadata": {},
     "output_type": "execute_result"
    }
   ],
   "source": [
    "avg_price(25) #average price for 1 month"
   ]
  },
  {
   "cell_type": "code",
   "execution_count": 272,
   "metadata": {},
   "outputs": [
    {
     "data": {
      "text/plain": [
       "1950.1266666666659"
      ]
     },
     "execution_count": 272,
     "metadata": {},
     "output_type": "execute_result"
    }
   ],
   "source": [
    "avg_price(75) #average price for 3 months"
   ]
  },
  {
   "cell_type": "code",
   "execution_count": 273,
   "metadata": {},
   "outputs": [
    {
     "data": {
      "text/plain": [
       "1908.4906666666673"
      ]
     },
     "execution_count": 273,
     "metadata": {},
     "output_type": "execute_result"
    }
   ],
   "source": [
    "avg_price(150) #average price for 6 months"
   ]
  },
  {
   "cell_type": "code",
   "execution_count": 274,
   "metadata": {},
   "outputs": [
    {
     "data": {
      "text/plain": [
       "1904.8664682539697"
      ]
     },
     "execution_count": 274,
     "metadata": {},
     "output_type": "execute_result"
    }
   ],
   "source": [
    "avg_price(252) #average price for 1 year"
   ]
  },
  {
   "cell_type": "code",
   "execution_count": 275,
   "metadata": {},
   "outputs": [],
   "source": [
    "def perc(N):\n",
    "    perc = df['Close Price'].tail(N)\n",
    "    x = perc.values[0]\n",
    "    y = perc.values[N-1]\n",
    "    z = ((y-x)/y)*100\n",
    "    print((z))\n"
   ]
  },
  {
   "cell_type": "code",
   "execution_count": 276,
   "metadata": {},
   "outputs": [
    {
     "name": "stdout",
     "output_type": "stream",
     "text": [
      "-0.6861590455220371\n"
     ]
    }
   ],
   "source": [
    "perc(5)"
   ]
  },
  {
   "cell_type": "code",
   "execution_count": 277,
   "metadata": {},
   "outputs": [
    {
     "name": "stdout",
     "output_type": "stream",
     "text": [
      "-1.2545445235291104\n"
     ]
    }
   ],
   "source": [
    "perc(10)"
   ]
  },
  {
   "cell_type": "code",
   "execution_count": 278,
   "metadata": {},
   "outputs": [
    {
     "name": "stdout",
     "output_type": "stream",
     "text": [
      "-3.082595114957234\n"
     ]
    }
   ],
   "source": [
    "perc(25)"
   ]
  },
  {
   "cell_type": "code",
   "execution_count": 279,
   "metadata": {},
   "outputs": [
    {
     "name": "stdout",
     "output_type": "stream",
     "text": [
      "-2.639664089303085\n"
     ]
    }
   ],
   "source": [
    "perc(75)"
   ]
  },
  {
   "cell_type": "code",
   "execution_count": 280,
   "metadata": {},
   "outputs": [
    {
     "name": "stdout",
     "output_type": "stream",
     "text": [
      "7.504224486660872\n"
     ]
    }
   ],
   "source": [
    "perc(150)"
   ]
  },
  {
   "cell_type": "code",
   "execution_count": 281,
   "metadata": {},
   "outputs": [
    {
     "name": "stdout",
     "output_type": "stream",
     "text": [
      "2.1788109990270974\n"
     ]
    }
   ],
   "source": [
    "perc(252)"
   ]
  },
  {
   "cell_type": "markdown",
   "metadata": {},
   "source": [
    "## Query 1.6\n"
   ]
  },
  {
   "cell_type": "code",
   "execution_count": 282,
   "metadata": {},
   "outputs": [],
   "source": [
    "df['Day_Perc_Change'] = df['Close Price'].pct_change()*100 # A new dataframe column added named Day_Perc_Change"
   ]
  },
  {
   "cell_type": "raw",
   "metadata": {},
   "source": [
    "The first entry of the column have a ‘Nan’ value.It is because there is no previous value so that it could calculate the percentage."
   ]
  },
  {
   "cell_type": "code",
   "execution_count": 283,
   "metadata": {},
   "outputs": [],
   "source": [
    "df['Day_Perc_Change'][0] = 0 # setting the entry(NaN) to 0 before proceeding"
   ]
  },
  {
   "cell_type": "markdown",
   "metadata": {},
   "source": [
    "## Query 1.7"
   ]
  },
  {
   "cell_type": "code",
   "execution_count": 284,
   "metadata": {},
   "outputs": [],
   "source": [
    "df['Trend'] = \"Slight or No Change\" #assigning trend column a initial value"
   ]
  },
  {
   "cell_type": "code",
   "execution_count": 285,
   "metadata": {},
   "outputs": [],
   "source": [
    "df.loc[(df[\"Day_Perc_Change\"]>0.5) & (df[\"Day_Perc_Change\"]<=1.0),\"Trend\"] = \"Slight Positive\" #this line compares the value and checks for the condition if condition is met then it assigns the value to the trend column"
   ]
  },
  {
   "cell_type": "code",
   "execution_count": 286,
   "metadata": {},
   "outputs": [],
   "source": [
    "df.loc[(df[\"Day_Perc_Change\"]<-0.5) & (df[\"Day_Perc_Change\"]>=-1),\"Trend\"] = \"Slight negative\""
   ]
  },
  {
   "cell_type": "code",
   "execution_count": 287,
   "metadata": {},
   "outputs": [],
   "source": [
    "df.loc[(df[\"Day_Perc_Change\"]>=1) & (df[\"Day_Perc_Change\"]<3),\"Trend\"] = \"Positive\""
   ]
  },
  {
   "cell_type": "code",
   "execution_count": 288,
   "metadata": {},
   "outputs": [],
   "source": [
    "df.loc[(df[\"Day_Perc_Change\"]<-1) & (df[\"Day_Perc_Change\"]>-3),\"Trend\"] = \"Negative\""
   ]
  },
  {
   "cell_type": "code",
   "execution_count": 289,
   "metadata": {},
   "outputs": [],
   "source": [
    "df.loc[(df[\"Day_Perc_Change\"]>=3) & (df[\"Day_Perc_Change\"]<7),\"Trend\"] = 'Among Top Gainers' "
   ]
  },
  {
   "cell_type": "code",
   "execution_count": 290,
   "metadata": {},
   "outputs": [],
   "source": [
    "df.loc[(df[\"Day_Perc_Change\"]<=-3) & (df[\"Day_Perc_Change\"]>-7),\"Trend\"] = 'Among Top losers'"
   ]
  },
  {
   "cell_type": "code",
   "execution_count": 291,
   "metadata": {},
   "outputs": [],
   "source": [
    "df.loc[(df[\"Day_Perc_Change\"]>7),\"Trend\"] = 'Bull run'"
   ]
  },
  {
   "cell_type": "code",
   "execution_count": 292,
   "metadata": {},
   "outputs": [],
   "source": [
    "df.loc[(df[\"Day_Perc_Change\"]<-7),\"Trend\"] = 'Bear drop'"
   ]
  },
  {
   "cell_type": "code",
   "execution_count": 293,
   "metadata": {},
   "outputs": [
    {
     "data": {
      "text/plain": [
       "Slight or No Change    152\n",
       "Positive                98\n",
       "Negative                96\n",
       "Slight Positive         70\n",
       "Slight negative         63\n",
       "Among Top Gainers        9\n",
       "Among Top losers         6\n",
       "Name: Trend, dtype: int64"
      ]
     },
     "execution_count": 293,
     "metadata": {},
     "output_type": "execute_result"
    }
   ],
   "source": [
    "df[\"Trend\"].value_counts() "
   ]
  },
  {
   "cell_type": "markdown",
   "metadata": {},
   "source": [
    "## Query 1.8\n"
   ]
  },
  {
   "cell_type": "code",
   "execution_count": 296,
   "metadata": {},
   "outputs": [
    {
     "data": {
      "text/plain": [
       "Trend\n",
       "Among Top Gainers      6450539.0\n",
       "Among Top losers       4736399.5\n",
       "Negative               2807872.5\n",
       "Positive               2915465.5\n",
       "Slight Positive        2434008.5\n",
       "Slight negative        2224803.0\n",
       "Slight or No Change    2247984.0\n",
       "Name: Total Traded Quantity, dtype: float64"
      ]
     },
     "execution_count": 296,
     "metadata": {},
     "output_type": "execute_result"
    }
   ],
   "source": [
    "med = df.groupby([\"Trend\"])\n",
    "med[\"Total Traded Quantity\"].median() #median calculated"
   ]
  },
  {
   "cell_type": "code",
   "execution_count": 313,
   "metadata": {},
   "outputs": [
    {
     "data": {
      "text/plain": [
       "Trend\n",
       "Among Top Gainers      6.352677e+06\n",
       "Among Top losers       5.186927e+06\n",
       "Negative               3.028490e+06\n",
       "Positive               3.075714e+06\n",
       "Slight Positive        2.583997e+06\n",
       "Slight negative        2.494395e+06\n",
       "Slight or No Change    2.506236e+06\n",
       "Name: Total Traded Quantity, dtype: float64"
      ]
     },
     "execution_count": 313,
     "metadata": {},
     "output_type": "execute_result"
    }
   ],
   "source": [
    "med[\"Total Traded Quantity\"].mean() #average calculated"
   ]
  },
  {
   "cell_type": "code",
   "execution_count": 300,
   "metadata": {},
   "outputs": [],
   "source": [
    "df.to_csv('week2.csv',index=False) #dataframe saved as week2.csv"
   ]
  }
 ],
 "metadata": {
  "kernelspec": {
   "display_name": "Python 3",
   "language": "python",
   "name": "python3"
  },
  "language_info": {
   "codemirror_mode": {
    "name": "ipython",
    "version": 3
   },
   "file_extension": ".py",
   "mimetype": "text/x-python",
   "name": "python",
   "nbconvert_exporter": "python",
   "pygments_lexer": "ipython3",
   "version": "3.6.5"
  }
 },
 "nbformat": 4,
 "nbformat_minor": 2
}
